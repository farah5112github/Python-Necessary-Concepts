{
  "nbformat": 4,
  "nbformat_minor": 0,
  "metadata": {
    "colab": {
      "provenance": []
    },
    "kernelspec": {
      "name": "python3",
      "display_name": "Python 3"
    },
    "language_info": {
      "name": "python"
    }
  },
  "cells": [
    {
      "cell_type": "markdown",
      "source": [
        "1. Write a Python program to convert kilometers to miles?"
      ],
      "metadata": {
        "id": "hHsPFSwuima2"
      }
    },
    {
      "cell_type": "code",
      "source": [
        "kilo_value = input('enter the kilometers value : ') ;\n",
        "print('the corresponding miles value : ',(float(kilo_value)/1.609344)) ;"
      ],
      "metadata": {
        "colab": {
          "base_uri": "https://localhost:8080/"
        },
        "id": "2ow9A1O9ilKw",
        "outputId": "ce12a281-558d-47df-db88-0c701f3c87da"
      },
      "execution_count": 1,
      "outputs": [
        {
          "output_type": "stream",
          "name": "stdout",
          "text": [
            "enter the kilometers value : 1\n",
            "the corresponding miles value :  0.621371192237334\n"
          ]
        }
      ]
    },
    {
      "cell_type": "markdown",
      "source": [
        "2. Write a Python program to convert Celsius to Fahrenheit?"
      ],
      "metadata": {
        "id": "ZIZeIVjyivnq"
      }
    },
    {
      "cell_type": "code",
      "source": [
        "C = input('enter the celcius value : ') ;\n",
        "print('the corresponding fahrenheit value : ',( (float(C) * 9) / 5) + 32 ) ;"
      ],
      "metadata": {
        "colab": {
          "base_uri": "https://localhost:8080/"
        },
        "id": "_lX_R0D1ilOe",
        "outputId": "36271544-01f2-4097-e9e6-6bbf5e931788"
      },
      "execution_count": 2,
      "outputs": [
        {
          "output_type": "stream",
          "name": "stdout",
          "text": [
            "enter the celcius value : 32.5\n",
            "the corresponding fahrenheit value :  90.5\n"
          ]
        }
      ]
    },
    {
      "cell_type": "markdown",
      "source": [
        "3. Write a Python program to display calendar?"
      ],
      "metadata": {
        "id": "0mKNqLFZizAp"
      }
    },
    {
      "cell_type": "code",
      "source": [
        "import calendar\n",
        " \n",
        "y = input('enter the year : ') ; \n",
        "print(calendar.calendar(int(y))) ;"
      ],
      "metadata": {
        "colab": {
          "base_uri": "https://localhost:8080/"
        },
        "id": "efLq5g9JilSI",
        "outputId": "d6246f58-33db-413a-9c08-329be88050ea"
      },
      "execution_count": 8,
      "outputs": [
        {
          "output_type": "stream",
          "name": "stdout",
          "text": [
            "enter the year : 2023\n",
            "                                  2023\n",
            "\n",
            "      January                   February                   March\n",
            "Mo Tu We Th Fr Sa Su      Mo Tu We Th Fr Sa Su      Mo Tu We Th Fr Sa Su\n",
            "                   1             1  2  3  4  5             1  2  3  4  5\n",
            " 2  3  4  5  6  7  8       6  7  8  9 10 11 12       6  7  8  9 10 11 12\n",
            " 9 10 11 12 13 14 15      13 14 15 16 17 18 19      13 14 15 16 17 18 19\n",
            "16 17 18 19 20 21 22      20 21 22 23 24 25 26      20 21 22 23 24 25 26\n",
            "23 24 25 26 27 28 29      27 28                     27 28 29 30 31\n",
            "30 31\n",
            "\n",
            "       April                      May                       June\n",
            "Mo Tu We Th Fr Sa Su      Mo Tu We Th Fr Sa Su      Mo Tu We Th Fr Sa Su\n",
            "                1  2       1  2  3  4  5  6  7                1  2  3  4\n",
            " 3  4  5  6  7  8  9       8  9 10 11 12 13 14       5  6  7  8  9 10 11\n",
            "10 11 12 13 14 15 16      15 16 17 18 19 20 21      12 13 14 15 16 17 18\n",
            "17 18 19 20 21 22 23      22 23 24 25 26 27 28      19 20 21 22 23 24 25\n",
            "24 25 26 27 28 29 30      29 30 31                  26 27 28 29 30\n",
            "\n",
            "        July                     August                  September\n",
            "Mo Tu We Th Fr Sa Su      Mo Tu We Th Fr Sa Su      Mo Tu We Th Fr Sa Su\n",
            "                1  2          1  2  3  4  5  6                   1  2  3\n",
            " 3  4  5  6  7  8  9       7  8  9 10 11 12 13       4  5  6  7  8  9 10\n",
            "10 11 12 13 14 15 16      14 15 16 17 18 19 20      11 12 13 14 15 16 17\n",
            "17 18 19 20 21 22 23      21 22 23 24 25 26 27      18 19 20 21 22 23 24\n",
            "24 25 26 27 28 29 30      28 29 30 31               25 26 27 28 29 30\n",
            "31\n",
            "\n",
            "      October                   November                  December\n",
            "Mo Tu We Th Fr Sa Su      Mo Tu We Th Fr Sa Su      Mo Tu We Th Fr Sa Su\n",
            "                   1             1  2  3  4  5                   1  2  3\n",
            " 2  3  4  5  6  7  8       6  7  8  9 10 11 12       4  5  6  7  8  9 10\n",
            " 9 10 11 12 13 14 15      13 14 15 16 17 18 19      11 12 13 14 15 16 17\n",
            "16 17 18 19 20 21 22      20 21 22 23 24 25 26      18 19 20 21 22 23 24\n",
            "23 24 25 26 27 28 29      27 28 29 30               25 26 27 28 29 30 31\n",
            "30 31\n",
            "\n"
          ]
        }
      ]
    },
    {
      "cell_type": "markdown",
      "source": [
        "4. Write a Python program to solve quadratic equation?"
      ],
      "metadata": {
        "id": "wPY1LzGti2Xu"
      }
    },
    {
      "cell_type": "code",
      "source": [
        "import math\n",
        "\n",
        "a = input('a : ') ;\n",
        "b = input('b : ') ;\n",
        "c = input('c : ') ;\n",
        "a = int(a) ; b = int(b) ; c = int(c) ;\n",
        "\n",
        "if(a == 0):\n",
        "  print('enter correct quadratic equation') ;\n",
        "else:\n",
        "  val = (b ** 2) - (4 * a * c ) ;\n",
        "  sqrt_val = math.sqrt(val) ;\n",
        "\n",
        "  if(val == 0):\n",
        "    print(\" the roots are real,same and value : \", (-b / (2 * a)) ) ; \n",
        "  elif(val > 0):\n",
        "    print(\" the roots are real,different and values are : \", ( (-b + sqrt_val) / (2 * a)) , ' and ', ( (-b-sqrt_val) / (2 * a)) ) ;\n",
        "  else:\n",
        "    print(\"the roots are complex,different and values are : \", (- b / (2 * a)), \" + j\", sqrt_val ,' and ', (- b / (2 * a) ), \" - j\", sqrt_val ) ;        "
      ],
      "metadata": {
        "colab": {
          "base_uri": "https://localhost:8080/"
        },
        "id": "dSmMWBqzilV2",
        "outputId": "6e1c2a18-463e-4257-a7b0-90f677d7498a"
      },
      "execution_count": 12,
      "outputs": [
        {
          "output_type": "stream",
          "name": "stdout",
          "text": [
            "a : 1\n",
            "b : 4\n",
            "c : 2\n",
            " the roots are real,different and values are :  -0.5857864376269049  and  -3.414213562373095\n"
          ]
        }
      ]
    },
    {
      "cell_type": "markdown",
      "source": [
        "5. Write a Python program to swap two variables without temp variable?"
      ],
      "metadata": {
        "id": "vwn6WzTzi5uS"
      }
    },
    {
      "cell_type": "code",
      "source": [
        "x = input('enter var-1 : ') ;\n",
        "y = input('enter var-2 : ') ;\n",
        "\n",
        "x,y = y,x ;\n",
        "\n",
        "print('var-1 : ',x);\n",
        "print('var-2 : ',y);"
      ],
      "metadata": {
        "colab": {
          "base_uri": "https://localhost:8080/"
        },
        "id": "6a8f3t9wilZW",
        "outputId": "2678a612-2a32-4ccc-9345-e5d1d4c0d2d2"
      },
      "execution_count": 13,
      "outputs": [
        {
          "output_type": "stream",
          "name": "stdout",
          "text": [
            "enter var-1 : 5\n",
            "enter var-2 : 10\n",
            "var-1 :  10\n",
            "var-2 :  5\n"
          ]
        }
      ]
    },
    {
      "cell_type": "code",
      "source": [],
      "metadata": {
        "id": "VmDX0LTbilc8"
      },
      "execution_count": null,
      "outputs": []
    },
    {
      "cell_type": "code",
      "source": [],
      "metadata": {
        "id": "Ff6ySWzYilgP"
      },
      "execution_count": null,
      "outputs": []
    },
    {
      "cell_type": "code",
      "source": [],
      "metadata": {
        "id": "sLrZEdjIiljt"
      },
      "execution_count": null,
      "outputs": []
    },
    {
      "cell_type": "code",
      "source": [],
      "metadata": {
        "id": "ZewBs9JLilnV"
      },
      "execution_count": null,
      "outputs": []
    },
    {
      "cell_type": "code",
      "source": [],
      "metadata": {
        "id": "BRHoOsi8iltn"
      },
      "execution_count": null,
      "outputs": []
    }
  ]
}