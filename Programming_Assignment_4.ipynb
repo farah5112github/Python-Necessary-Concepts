{
  "nbformat": 4,
  "nbformat_minor": 0,
  "metadata": {
    "colab": {
      "provenance": []
    },
    "kernelspec": {
      "name": "python3",
      "display_name": "Python 3"
    },
    "language_info": {
      "name": "python"
    }
  },
  "cells": [
    {
      "cell_type": "markdown",
      "source": [
        "1. Write a Python Program to Find the Factorial of a Number?"
      ],
      "metadata": {
        "id": "jo89brl1PDYP"
      }
    },
    {
      "cell_type": "code",
      "source": [
        "num = input('Enter a number : ');\n",
        "num = int(num);\n",
        "fact = 1 ;\n",
        "\n",
        "for i in range(1,num+1):\n",
        "    fact *= i ;\n",
        "\n",
        "print('factorial of ',num,' is : ',fact);   "
      ],
      "metadata": {
        "colab": {
          "base_uri": "https://localhost:8080/"
        },
        "id": "0Kp8gPQxO-27",
        "outputId": "db7dc353-628d-47d2-efb9-843fa1c0a1b0"
      },
      "execution_count": 2,
      "outputs": [
        {
          "output_type": "stream",
          "name": "stdout",
          "text": [
            "Enter a number : 12\n",
            "factorial of  12  is :  479001600\n"
          ]
        }
      ]
    },
    {
      "cell_type": "markdown",
      "source": [
        "2. Write a Python Program to Display the multiplication Table?"
      ],
      "metadata": {
        "id": "MAA3um2gPEqw"
      }
    },
    {
      "cell_type": "code",
      "source": [
        "num = input('Enter a number : ');\n",
        "num = int(num);\n",
        "\n",
        "print('The multiplication table of ',num,' is : ');\n",
        "\n",
        "for i in range(1,11):\n",
        "        print(num,'*',i,' = ',(num*i));    "
      ],
      "metadata": {
        "colab": {
          "base_uri": "https://localhost:8080/"
        },
        "id": "oVSinO8IO_DU",
        "outputId": "20e4c263-4a6d-4c98-a449-048e05d845bc"
      },
      "execution_count": 4,
      "outputs": [
        {
          "output_type": "stream",
          "name": "stdout",
          "text": [
            "Enter a number : 2\n",
            "The multiplication table of  2  is : \n",
            "2 * 1  =  2\n",
            "2 * 2  =  4\n",
            "2 * 3  =  6\n",
            "2 * 4  =  8\n",
            "2 * 5  =  10\n",
            "2 * 6  =  12\n",
            "2 * 7  =  14\n",
            "2 * 8  =  16\n",
            "2 * 9  =  18\n",
            "2 * 10  =  20\n"
          ]
        }
      ]
    },
    {
      "cell_type": "markdown",
      "source": [
        "3. Write a Python Program to Print the Fibonacci sequence?"
      ],
      "metadata": {
        "id": "KyxJZpHKPIKv"
      }
    },
    {
      "cell_type": "code",
      "source": [
        "n = input('Enter how many fibinacci numbers : ');\n",
        "n = int(n);\n",
        "\n",
        "first = 1 ;\n",
        "second = 1 ;\n",
        "\n",
        "for i in range(1,n+1):\n",
        "    print(first);\n",
        "    \n",
        "    third = first + second ;\n",
        "    first = second ;\n",
        "    second = third ;\n"
      ],
      "metadata": {
        "colab": {
          "base_uri": "https://localhost:8080/"
        },
        "id": "NUM1aOCPO_HK",
        "outputId": "1752832e-5641-4348-e455-977ddfe7e965"
      },
      "execution_count": 5,
      "outputs": [
        {
          "output_type": "stream",
          "name": "stdout",
          "text": [
            "Enter how many fibinacci numbers : 8\n",
            "1\n",
            "1\n",
            "2\n",
            "3\n",
            "5\n",
            "8\n",
            "13\n",
            "21\n"
          ]
        }
      ]
    },
    {
      "cell_type": "markdown",
      "source": [
        "4. Write a Python Program to Check Armstrong Number?"
      ],
      "metadata": {
        "id": "I55qgJKbPLX2"
      }
    },
    {
      "cell_type": "code",
      "source": [
        "num = input('Enter the number : ');\n",
        "n = len(num) ;\n",
        "num = int(num);\n",
        "temp = num ;\n",
        "sum = 0;\n",
        "\n",
        "while(temp > 0):\n",
        "      \n",
        "      digit = temp % 10 ;\n",
        "      temp = int(temp / 10) ;\n",
        "      sum += digit ** n ;  \n",
        "\n",
        "if(sum == num):\n",
        "   print(num,' is a amstrong number');\n",
        "else:\n",
        "   print(num,' is not a amstrong number');"
      ],
      "metadata": {
        "colab": {
          "base_uri": "https://localhost:8080/"
        },
        "id": "pVtdOzJTO_Ka",
        "outputId": "96a06c01-2fdb-4ddf-d4cd-fbd604f1d068"
      },
      "execution_count": 15,
      "outputs": [
        {
          "output_type": "stream",
          "name": "stdout",
          "text": [
            "Enter the number : 663\n",
            "663  is not a amstrong number\n"
          ]
        }
      ]
    },
    {
      "cell_type": "markdown",
      "source": [
        "5. Write a Python Program to Find Armstrong Number in an Interval?"
      ],
      "metadata": {
        "id": "UltDTcadPOUv"
      }
    },
    {
      "cell_type": "code",
      "source": [
        "start = input('Enter the start number : ');\n",
        "end = input('Enter the end number : ');\n",
        "\n",
        "def find_Armstrong_number(num):\n",
        "    n = len(str(num)) ;\n",
        "    temp = num ;\n",
        "    sum = 0;\n",
        "\n",
        "    while(temp > 0):\n",
        "          digit = temp % 10 ;\n",
        "          temp = int(temp / 10) ;\n",
        "          sum += digit ** n ;  \n",
        "\n",
        "    if(sum == num):\n",
        "       print(num);\n",
        "    \n",
        "for i in range(int(start),int(end)+1):\n",
        "    find_Armstrong_number(i) ;"
      ],
      "metadata": {
        "colab": {
          "base_uri": "https://localhost:8080/"
        },
        "id": "oSBHZaT2O_NS",
        "outputId": "43c7938f-cbd5-4aa6-df1d-fdb318fd50d4"
      },
      "execution_count": 17,
      "outputs": [
        {
          "output_type": "stream",
          "name": "stdout",
          "text": [
            "Enter the start number : 400\n",
            "Enter the end number : 410\n",
            "407\n"
          ]
        }
      ]
    },
    {
      "cell_type": "markdown",
      "source": [
        "6. Write a Python Program to Find the Sum of Natural Numbers?"
      ],
      "metadata": {
        "id": "ZneyxtHyPRb_"
      }
    },
    {
      "cell_type": "code",
      "source": [
        "n = input('Enter the range : ');\n",
        "n = int(n);\n",
        "sum = 0 ;\n",
        "    \n",
        "for i in range(1,n):\n",
        "    sum += i ;\n",
        "\n",
        "print('the sum of natural numbers from 1 to ',n,' = ',sum) ;"
      ],
      "metadata": {
        "colab": {
          "base_uri": "https://localhost:8080/"
        },
        "id": "ZVRKwMJwO_Qi",
        "outputId": "feec3870-b03b-4b78-bbf8-4a2c34166e91"
      },
      "execution_count": 18,
      "outputs": [
        {
          "output_type": "stream",
          "name": "stdout",
          "text": [
            "Enter the range : 10\n",
            "the sum of natural numbers from 1 to  10  =  45\n"
          ]
        }
      ]
    },
    {
      "cell_type": "code",
      "source": [],
      "metadata": {
        "id": "UbBPX9HPO_Td"
      },
      "execution_count": null,
      "outputs": []
    },
    {
      "cell_type": "code",
      "source": [],
      "metadata": {
        "id": "ChJ7sXdbO_We"
      },
      "execution_count": null,
      "outputs": []
    },
    {
      "cell_type": "code",
      "source": [],
      "metadata": {
        "id": "xG9tVtnKO_Zx"
      },
      "execution_count": null,
      "outputs": []
    },
    {
      "cell_type": "code",
      "source": [],
      "metadata": {
        "id": "CRf9d4WYO_c1"
      },
      "execution_count": null,
      "outputs": []
    },
    {
      "cell_type": "code",
      "source": [],
      "metadata": {
        "id": "4ha0owUZO_gd"
      },
      "execution_count": null,
      "outputs": []
    },
    {
      "cell_type": "code",
      "source": [],
      "metadata": {
        "id": "Yj2X9gFJO_ki"
      },
      "execution_count": null,
      "outputs": []
    }
  ]
}