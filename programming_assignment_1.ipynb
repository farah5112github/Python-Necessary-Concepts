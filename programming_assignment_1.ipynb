{
  "nbformat": 4,
  "nbformat_minor": 0,
  "metadata": {
    "colab": {
      "provenance": []
    },
    "kernelspec": {
      "name": "python3",
      "display_name": "Python 3"
    },
    "language_info": {
      "name": "python"
    }
  },
  "cells": [
    {
      "cell_type": "markdown",
      "source": [
        "1. Write a Python program to print \"Hello Python\"?"
      ],
      "metadata": {
        "id": "d-32BHVNfMul"
      }
    },
    {
      "cell_type": "code",
      "source": [
        "print('Hello Python')"
      ],
      "metadata": {
        "colab": {
          "base_uri": "https://localhost:8080/"
        },
        "id": "lSlYEpYyfCa0",
        "outputId": "1400ad57-cb9c-4995-e428-f1929d066ea2"
      },
      "execution_count": 1,
      "outputs": [
        {
          "output_type": "stream",
          "name": "stdout",
          "text": [
            "Hello Python\n"
          ]
        }
      ]
    },
    {
      "cell_type": "markdown",
      "source": [
        "2. Write a Python program to do arithmetical operations addition and division.?"
      ],
      "metadata": {
        "id": "wXPrtY70fexL"
      }
    },
    {
      "cell_type": "code",
      "source": [
        "a = input() ;\n",
        "b = input() ;\n",
        "\n",
        "add = int(a) + int(b) ;\n",
        "div = int(a) / int(b) ;\n",
        "\n",
        "print(add) ;\n",
        "print(div) ;"
      ],
      "metadata": {
        "colab": {
          "base_uri": "https://localhost:8080/"
        },
        "id": "19WtN1YxfCes",
        "outputId": "1b4b4fb2-6041-41bf-bdbc-1942af6daa39"
      },
      "execution_count": 3,
      "outputs": [
        {
          "output_type": "stream",
          "name": "stdout",
          "text": [
            "5\n",
            "10\n",
            "15\n",
            "0.5\n"
          ]
        }
      ]
    },
    {
      "cell_type": "markdown",
      "source": [
        "3. Write a Python program to find the area of a triangle?"
      ],
      "metadata": {
        "id": "0O993gWUf_9O"
      }
    },
    {
      "cell_type": "code",
      "source": [
        "base = input('enter base : ') ;\n",
        "height = input('enter height : ') ;\n",
        "\n",
        "area = 0.5 * int(base) * int(height) ;\n",
        "print(area) ;"
      ],
      "metadata": {
        "colab": {
          "base_uri": "https://localhost:8080/"
        },
        "id": "m6FAiqeIfChw",
        "outputId": "1df268bf-da9e-404c-e58e-71300d5db69d"
      },
      "execution_count": 5,
      "outputs": [
        {
          "output_type": "stream",
          "name": "stdout",
          "text": [
            "enter base : 10\n",
            "enter height : 5\n",
            "25.0\n"
          ]
        }
      ]
    },
    {
      "cell_type": "markdown",
      "source": [
        "4. Write a Python program to swap two variables?"
      ],
      "metadata": {
        "id": "n_uzhqg3gbJ1"
      }
    },
    {
      "cell_type": "code",
      "source": [
        "x = input('enter var-1 : ') ;\n",
        "y = input('enter var-2 : ') ;\n",
        "\n",
        "z = x ;\n",
        "x = y ;\n",
        "y = z ;\n",
        "\n",
        "print('var-1 : ',x);\n",
        "print('var-2 : ',y);"
      ],
      "metadata": {
        "colab": {
          "base_uri": "https://localhost:8080/"
        },
        "id": "C5g17NuCfCk9",
        "outputId": "6306d567-d1e5-47ba-9ff0-22ae9c9dcb6f"
      },
      "execution_count": 6,
      "outputs": [
        {
          "output_type": "stream",
          "name": "stdout",
          "text": [
            "enter var-1 : 10\n",
            "enter var-2 : 5\n",
            "var-1 :  5\n",
            "var-2 :  10\n"
          ]
        }
      ]
    },
    {
      "cell_type": "markdown",
      "source": [
        "5. Write a Python program to generate a random number?"
      ],
      "metadata": {
        "id": "XdxmaVJFg29a"
      }
    },
    {
      "cell_type": "code",
      "source": [
        "import random\n",
        "rand = random.random()\n",
        "print(rand)"
      ],
      "metadata": {
        "colab": {
          "base_uri": "https://localhost:8080/"
        },
        "id": "DO3Ai-nYfCoJ",
        "outputId": "171fae71-7bc3-4a6a-f828-e956f0204910"
      },
      "execution_count": 9,
      "outputs": [
        {
          "output_type": "stream",
          "name": "stdout",
          "text": [
            "0.02262883812745997\n"
          ]
        }
      ]
    },
    {
      "cell_type": "code",
      "source": [],
      "metadata": {
        "id": "JljdisjBfCrT"
      },
      "execution_count": null,
      "outputs": []
    },
    {
      "cell_type": "code",
      "source": [],
      "metadata": {
        "id": "FbtOgwZqfCup"
      },
      "execution_count": null,
      "outputs": []
    },
    {
      "cell_type": "code",
      "source": [],
      "metadata": {
        "id": "ftNjrU8vfCyD"
      },
      "execution_count": null,
      "outputs": []
    },
    {
      "cell_type": "code",
      "source": [],
      "metadata": {
        "id": "uo1i7dqefC1o"
      },
      "execution_count": null,
      "outputs": []
    },
    {
      "cell_type": "code",
      "source": [],
      "metadata": {
        "id": "CAnbV8YMfDX6"
      },
      "execution_count": null,
      "outputs": []
    },
    {
      "cell_type": "code",
      "source": [],
      "metadata": {
        "id": "hIPDtXnufDdj"
      },
      "execution_count": null,
      "outputs": []
    },
    {
      "cell_type": "markdown",
      "source": [],
      "metadata": {
        "id": "-Gnd3Ki1fECu"
      }
    }
  ]
}